{
 "cells": [
  {
   "cell_type": "code",
   "execution_count": 3,
   "metadata": {},
   "outputs": [
    {
     "name": "stdout",
     "output_type": "stream",
     "text": [
      "The autoreload extension is already loaded. To reload it, use:\n",
      "  %reload_ext autoreload\n"
     ]
    }
   ],
   "source": [
    "%load_ext autoreload\n",
    "%autoreload 2\n",
    "\n",
    "import os\n",
    "import torch\n",
    "import matplotlib.pyplot as plt\n",
    "import numpy as np\n",
    "from lib.models.latent_encoder import LatentEncoder\n",
    "from lib.models.deepsdf import DeepSDF\n",
    "from torchvision.transforms import v2\n",
    "from lib.utils.config import load_config\n",
    "from lib.data.metainfo import MetaInfo\n",
    "import hydra\n",
    "import glob\n",
    "import cv2\n",
    "\n",
    "from lib.utils.config import load_config\n",
    "from lib.data.sampler import ChunkSampler\n",
    "from lib.data.metainfo import MetaInfo"
   ]
  },
  {
   "cell_type": "code",
   "execution_count": 4,
   "metadata": {},
   "outputs": [
    {
     "name": "stderr",
     "output_type": "stream",
     "text": [
      "100%|██████████| 4096/4096 [00:19<00:00, 208.27it/s]\n"
     ]
    }
   ],
   "source": [
    "cfg = load_config(\n",
    "    \"train_loss\", [\"+experiment/train_loss=latent_encoder_shapenet_chair_4096\"]\n",
    ")\n",
    "metainfo = MetaInfo(cfg.data.data_dir, split=\"val_latent\")\n",
    "metainfo.load_snn()\n",
    "sampler = ChunkSampler(metainfo.snn_labels, chunk_size=1)\n",
    "max([i for i in sampler]), len([i for i in sampler])\n",
    "loss_ckpt_path = \"/home/borth/sketch2shape/logs/train_latent_encoder/runs/2024-02-15_22-31-15/checkpoints/epoch_019.ckpt\"\n",
    "shape_view_id = 11\n",
    "shape_k = 16\n",
    "\n",
    "cfg = load_config(\"optimize_sketch\", [\"+dataset=shapenet_chair_4096\"])\n",
    "metainfo = MetaInfo(cfg.data.data_dir)\n",
    "\n",
    "cfg.loss_ckpt_path = loss_ckpt_path\n",
    "cfg.model.shape_k = shape_k\n",
    "cfg.model.shape_view_id = shape_view_id\n",
    "cfg.model.shape_init = True\n",
    "cfg.model.obj_id = metainfo.obj_ids[0]\n",
    "model = hydra.utils.instantiate(cfg.model).to(\"cuda\")\n",
    "\n",
    "model.deepsdf.create_camera()"
   ]
  },
  {
   "cell_type": "code",
   "execution_count": 6,
   "metadata": {},
   "outputs": [],
   "source": [
    "metainfo.load_snn()"
   ]
  },
  {
   "cell_type": "code",
   "execution_count": 8,
   "metadata": {},
   "outputs": [
    {
     "data": {
      "text/html": [
       "<div>\n",
       "<style scoped>\n",
       "    .dataframe tbody tr th:only-of-type {\n",
       "        vertical-align: middle;\n",
       "    }\n",
       "\n",
       "    .dataframe tbody tr th {\n",
       "        vertical-align: top;\n",
       "    }\n",
       "\n",
       "    .dataframe thead th {\n",
       "        text-align: right;\n",
       "    }\n",
       "</style>\n",
       "<table border=\"1\" class=\"dataframe\">\n",
       "  <thead>\n",
       "    <tr style=\"text-align: right;\">\n",
       "      <th></th>\n",
       "      <th>obj_id</th>\n",
       "      <th>image_id</th>\n",
       "      <th>label</th>\n",
       "      <th>image_type</th>\n",
       "    </tr>\n",
       "  </thead>\n",
       "  <tbody>\n",
       "    <tr>\n",
       "      <th>0</th>\n",
       "      <td>52310bca00e6a3671201d487ecde379e</td>\n",
       "      <td>00000</td>\n",
       "      <td>0</td>\n",
       "      <td>sketch</td>\n",
       "    </tr>\n",
       "    <tr>\n",
       "      <th>1</th>\n",
       "      <td>52310bca00e6a3671201d487ecde379e</td>\n",
       "      <td>00000</td>\n",
       "      <td>0</td>\n",
       "      <td>normal</td>\n",
       "    </tr>\n",
       "    <tr>\n",
       "      <th>2</th>\n",
       "      <td>52310bca00e6a3671201d487ecde379e</td>\n",
       "      <td>00000</td>\n",
       "      <td>0</td>\n",
       "      <td>rendered_sketch</td>\n",
       "    </tr>\n",
       "    <tr>\n",
       "      <th>3</th>\n",
       "      <td>52310bca00e6a3671201d487ecde379e</td>\n",
       "      <td>00000</td>\n",
       "      <td>0</td>\n",
       "      <td>rendered_normal</td>\n",
       "    </tr>\n",
       "    <tr>\n",
       "      <th>4</th>\n",
       "      <td>52310bca00e6a3671201d487ecde379e</td>\n",
       "      <td>00001</td>\n",
       "      <td>0</td>\n",
       "      <td>sketch</td>\n",
       "    </tr>\n",
       "    <tr>\n",
       "      <th>...</th>\n",
       "      <td>...</td>\n",
       "      <td>...</td>\n",
       "      <td>...</td>\n",
       "      <td>...</td>\n",
       "    </tr>\n",
       "    <tr>\n",
       "      <th>1612795</th>\n",
       "      <td>6ade3daff4827379492d9da2668ec34c</td>\n",
       "      <td>00088</td>\n",
       "      <td>4479</td>\n",
       "      <td>rendered_normal</td>\n",
       "    </tr>\n",
       "    <tr>\n",
       "      <th>1612796</th>\n",
       "      <td>6ade3daff4827379492d9da2668ec34c</td>\n",
       "      <td>00089</td>\n",
       "      <td>4479</td>\n",
       "      <td>sketch</td>\n",
       "    </tr>\n",
       "    <tr>\n",
       "      <th>1612797</th>\n",
       "      <td>6ade3daff4827379492d9da2668ec34c</td>\n",
       "      <td>00089</td>\n",
       "      <td>4479</td>\n",
       "      <td>normal</td>\n",
       "    </tr>\n",
       "    <tr>\n",
       "      <th>1612798</th>\n",
       "      <td>6ade3daff4827379492d9da2668ec34c</td>\n",
       "      <td>00089</td>\n",
       "      <td>4479</td>\n",
       "      <td>rendered_sketch</td>\n",
       "    </tr>\n",
       "    <tr>\n",
       "      <th>1612799</th>\n",
       "      <td>6ade3daff4827379492d9da2668ec34c</td>\n",
       "      <td>00089</td>\n",
       "      <td>4479</td>\n",
       "      <td>rendered_normal</td>\n",
       "    </tr>\n",
       "  </tbody>\n",
       "</table>\n",
       "<p>1612800 rows × 4 columns</p>\n",
       "</div>"
      ],
      "text/plain": [
       "                                   obj_id image_id  label       image_type\n",
       "0        52310bca00e6a3671201d487ecde379e    00000      0           sketch\n",
       "1        52310bca00e6a3671201d487ecde379e    00000      0           normal\n",
       "2        52310bca00e6a3671201d487ecde379e    00000      0  rendered_sketch\n",
       "3        52310bca00e6a3671201d487ecde379e    00000      0  rendered_normal\n",
       "4        52310bca00e6a3671201d487ecde379e    00001      0           sketch\n",
       "...                                   ...      ...    ...              ...\n",
       "1612795  6ade3daff4827379492d9da2668ec34c    00088   4479  rendered_normal\n",
       "1612796  6ade3daff4827379492d9da2668ec34c    00089   4479           sketch\n",
       "1612797  6ade3daff4827379492d9da2668ec34c    00089   4479           normal\n",
       "1612798  6ade3daff4827379492d9da2668ec34c    00089   4479  rendered_sketch\n",
       "1612799  6ade3daff4827379492d9da2668ec34c    00089   4479  rendered_normal\n",
       "\n",
       "[1612800 rows x 4 columns]"
      ]
     },
     "execution_count": 8,
     "metadata": {},
     "output_type": "execute_result"
    }
   ],
   "source": [
    "metainfo._snn_data"
   ]
  },
  {
   "cell_type": "code",
   "execution_count": null,
   "metadata": {},
   "outputs": [],
   "source": []
  }
 ],
 "metadata": {
  "kernelspec": {
   "display_name": "sketch2shape",
   "language": "python",
   "name": "python3"
  },
  "language_info": {
   "codemirror_mode": {
    "name": "ipython",
    "version": 3
   },
   "file_extension": ".py",
   "mimetype": "text/x-python",
   "name": "python",
   "nbconvert_exporter": "python",
   "pygments_lexer": "ipython3",
   "version": "3.11.7"
  }
 },
 "nbformat": 4,
 "nbformat_minor": 2
}
