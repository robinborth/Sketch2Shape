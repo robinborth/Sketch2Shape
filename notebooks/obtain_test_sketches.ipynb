{
 "cells": [
  {
   "cell_type": "code",
   "execution_count": null,
   "metadata": {},
   "outputs": [],
   "source": [
    "%load_ext autoreload\n",
    "%autoreload 2\n",
    "\n",
    "import matplotlib.pyplot as plt\n",
    "import numpy as np\n",
    "import tqdm\n",
    "import random\n",
    "from lib.utils.config import load_config\n",
    "from pypdf import PdfReader, PdfWriter, PdfMerger\n",
    "from pdf2image import convert_from_path\n",
    "import glob\n",
    "import os\n",
    "\n",
    "import cv2\n",
    "\n",
    "from PIL import Image, ImageDraw, ImageFont\n",
    "\n",
    "# set random seed\n",
    "seed = 42\n",
    "random.seed(seed)\n",
    "\n",
    "def to_grayscale(img):\n",
    "    mean = img.mean(2)\n",
    "    x = np.stack([mean, mean, mean], axis=2)\n",
    "    x = x.astype(np.uint8)\n",
    "    return x"
   ]
  },
  {
   "cell_type": "code",
   "execution_count": null,
   "metadata": {},
   "outputs": [],
   "source": [
    "x = cv2.imread(\"/home/korth/sketch2shape/data/shapenet_chair_4096/shapes/1a8bbf2994788e2743e99e0cae970928/normals/00006.png\")"
   ]
  },
  {
   "cell_type": "code",
   "execution_count": null,
   "metadata": {},
   "outputs": [],
   "source": [
    "plt.imshow(to_grayscale(x))"
   ]
  },
  {
   "cell_type": "code",
   "execution_count": null,
   "metadata": {},
   "outputs": [],
   "source": [
    "dataset_path = \"/home/korth/sketch2shape/data/shapenet_chair_4096\"\n",
    "import pandas as pd\n",
    "metainfo = pd.read_csv(dataset_path + \"/metainfo.csv\")\n",
    "metainfo"
   ]
  },
  {
   "cell_type": "markdown",
   "metadata": {},
   "source": [
    "# Create Figures of Objects"
   ]
  },
  {
   "cell_type": "code",
   "execution_count": null,
   "metadata": {},
   "outputs": [],
   "source": [
    "figures_path = \"test_data_collection/figures\"\n",
    "combined_path = \"test_data_collection/combined\"\n",
    "\n",
    "if not os.path.exists(combined_path):\n",
    "    os.makedirs(combined_path)\n",
    "\n",
    "if not os.path.exists(figures_path):\n",
    "    os.makedirs(figures_path)"
   ]
  },
  {
   "cell_type": "code",
   "execution_count": null,
   "metadata": {},
   "outputs": [],
   "source": [
    "test_obj_ids = metainfo[metainfo['split'] == 'test']['obj_id'].tolist()\n",
    "test_obj_ids\n",
    "\n",
    "# white image\n",
    "white_image = np.ones((256, 256, 3))\n",
    "\n",
    "options = [6, 7, 11, 12]\n",
    "\n",
    "img_type = \"normals\" # sketches\n",
    "\n",
    "for obj_id in tqdm.tqdm(test_obj_ids):\n",
    "    selected_view = random.choice(options)\n",
    "    sketch_path = dataset_path + f\"/shapes/{obj_id}/{img_type}/000{selected_view:02d}.png\"\n",
    "    sketch = cv2.imread(sketch_path)\n",
    "\n",
    "    if img_type == \"normals\":\n",
    "        sketch = to_grayscale(sketch)\n",
    "\n",
    "    plt.subplot(1, 2, 1)\n",
    "    plt.imshow(sketch)\n",
    "    plt.xticks([])\n",
    "    plt.yticks([])\n",
    "\n",
    "    # add the white image\n",
    "    plt.subplot(1, 2, 2)\n",
    "    plt.imshow(white_image)\n",
    "    plt.xticks([])\n",
    "    plt.yticks([])\n",
    "    \n",
    "    # add global title to the figure\n",
    "    plt.suptitle(f\"{obj_id}\")\n",
    "\n",
    "    # save the figure\n",
    "    plt.savefig(f\"test_data_collection/figures/{img_type}_{obj_id}.png\")\n",
    "\n",
    "    plt.close()\n"
   ]
  },
  {
   "cell_type": "markdown",
   "metadata": {},
   "source": [
    "# Put Figures into PDF and Merge"
   ]
  },
  {
   "cell_type": "code",
   "execution_count": null,
   "metadata": {},
   "outputs": [],
   "source": [
    "# Get the list of image file names in the folder\n",
    "image_files = glob.glob(os.path.join(figures_path, f\"{img_type}_*.png\"))\n",
    "\n",
    "# Sort the image files in ascending order\n",
    "image_files.sort()\n",
    "\n",
    "for i, image_file in enumerate(image_files):\n",
    "    # Initialize an empty list to store the images\n",
    "    images = []\n",
    "\n",
    "    # Load and append each image to the list\n",
    "    image = cv2.imread(image_file)\n",
    "    images.append(image)\n",
    "\n",
    "    # Combine the images vertically\n",
    "    combined_image = cv2.vconcat(images)\n",
    "\n",
    "    # Save the combined image\n",
    "    combined_image_path = combined_path + f\"/combined_image_{img_type}_{i}.png\"\n",
    "    cv2.imwrite(combined_image_path, combined_image)\n",
    "    cv2.destroyAllWindows()\n",
    "\n",
    "# Define the font properties for the page number\n",
    "font = ImageFont.truetype(\"/usr/share/fonts/truetype/ubuntu/Ubuntu-R.ttf\", 12)\n",
    "\n",
    "# Iterate over the image files\n",
    "for i, image_file in enumerate(image_files):\n",
    "    # Open the image\n",
    "    image = Image.open(image_file)\n",
    "\n",
    "    # Create a new blank image with white background\n",
    "    page_image = Image.new(\"RGB\", (image.width, image.height + 20), \"white\")\n",
    "\n",
    "    # Paste the original image onto the new image\n",
    "    page_image.paste(image, (0, 0))\n",
    "\n",
    "    # Create a drawing object\n",
    "    draw = ImageDraw.Draw(page_image)\n",
    "\n",
    "    # Calculate the position for the page number\n",
    "    page_number_position = (10, image.height + 5)\n",
    "\n",
    "    # Draw the page number on the image\n",
    "    draw.text(page_number_position, f\"{i+1}\", font=font, fill=\"black\")\n",
    "\n",
    "    # Save the page as a PDF\n",
    "    pdf_path = combined_path + f\"/combined_image_{img_type}_{i}.pdf\"\n",
    "    page_image.save(pdf_path, \"PDF\", resolution=100.0)\n",
    "    \n",
    "\n",
    "# Create a PdfMerger object\n",
    "pdf_merger = PdfMerger()\n",
    "\n",
    "# Iterate over the PDF files\n",
    "for i, image_file in enumerate(image_files):\n",
    "    # Add the PDF to the merger object\n",
    "    pdf_merger.append(combined_path + f\"/combined_image_{img_type}_{i}.pdf\")\n",
    "    \n",
    "# Save the combined PDF to disk\n",
    "combined_pdf_path = combined_path + f\"/combined_image_{img_type}.pdf\"\n",
    "with open(combined_pdf_path, \"wb\") as file:\n",
    "    pdf_merger.write(file)\n",
    "\n",
    "# remove all individual pdfs and pngs\n",
    "for i, image_file in enumerate(image_files):\n",
    "    os.remove(combined_path + f\"/combined_image_{img_type}_{i}.pdf\")\n",
    "    os.remove(combined_path + f\"/combined_image_{img_type}_{i}.png\")\n",
    "\n",
    "# Print the path to the combined PDF\n",
    "print(\"The combined PDF is saved to:\", combined_pdf_path)\n",
    "\n",
    "# Store the order of images to disk\n",
    "with open(\"test_data_collection/order.txt\", \"w\") as f:\n",
    "    for image_file in image_files:\n",
    "        f.write(image_file.split('/')[-1][:-4].split('_')[1] + \"\\n\")"
   ]
  },
  {
   "cell_type": "markdown",
   "metadata": {},
   "source": [
    "# Extract Sketches from PDF"
   ]
  },
  {
   "cell_type": "code",
   "execution_count": null,
   "metadata": {},
   "outputs": [],
   "source": [
    "writer = PdfWriter()\n",
    "pdf_path = \"combined_image_normals_modified.pdf\"\n",
    "\n",
    "with open(pdf_path, \"rb\") as file:\n",
    "\n",
    "    pdf = PdfReader(file)\n",
    "\n",
    "    # Initialize an empty list to store the extracted text\n",
    "    extracted_text = []\n",
    "\n",
    "    pages = pdf.pages\n",
    "\n",
    "    for page_num in range(len(pdf.pages)):\n",
    "\n",
    "        # numbers are hardcoded\n",
    "        pdf.pages[page_num].mediabox.upper_right = (712, 455)\n",
    "        pdf.pages[page_num].mediabox.lower_left = (437, 180)\n",
    "\n",
    "        writer.add_page(pdf.pages[page_num])\n",
    "        # write to document-output.pdf\n",
    "        with open(\"temp.pdf\", \"wb\") as fp:\n",
    "            writer.write(fp)\n",
    "\n",
    "        images = convert_from_path(\"temp.pdf\")\n",
    "        for i in range(len(images)):\n",
    "            images[i].save('page'+ str(i) +'.png', 'PNG')\n",
    "    "
   ]
  }
 ],
 "metadata": {
  "kernelspec": {
   "display_name": "sketch2shape",
   "language": "python",
   "name": "python3"
  },
  "language_info": {
   "codemirror_mode": {
    "name": "ipython",
    "version": 3
   },
   "file_extension": ".py",
   "mimetype": "text/x-python",
   "name": "python",
   "nbconvert_exporter": "python",
   "pygments_lexer": "ipython3",
   "version": "3.11.7"
  }
 },
 "nbformat": 4,
 "nbformat_minor": 2
}
